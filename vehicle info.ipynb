{
 "cells": [
  {
   "cell_type": "code",
   "execution_count": 10,
   "id": "bd9c6032",
   "metadata": {},
   "outputs": [],
   "source": [
    "import sqlite3\n",
    "from plate import detect_plate"
   ]
  },
  {
   "cell_type": "code",
   "execution_count": 11,
   "id": "0c95e774",
   "metadata": {},
   "outputs": [
    {
     "name": "stderr",
     "output_type": "stream",
     "text": [
      "Neither CUDA nor MPS are available - defaulting to CPU. Note: This module is much faster with a GPU.\n"
     ]
    },
    {
     "name": "stderr",
     "output_type": "stream",
     "text": [
      "d:\\PROGRAMS\\Projects\\ANPR vehicle info\\.venv\\Lib\\site-packages\\torch\\utils\\data\\dataloader.py:665: UserWarning: 'pin_memory' argument is set as true but no accelerator is found, then device pinned memory won't be used.\n",
      "  warnings.warn(warn_msg)\n"
     ]
    },
    {
     "data": {
      "text/plain": [
       "'MH20EJ0365'"
      ]
     },
     "execution_count": 11,
     "metadata": {},
     "output_type": "execute_result"
    }
   ],
   "source": [
    "detect_plate(\"Car.jpeg\")"
   ]
  },
  {
   "cell_type": "code",
   "execution_count": 12,
   "id": "1f5ddfed",
   "metadata": {},
   "outputs": [],
   "source": [
    "def get_vehicle_info(plate_number):\n",
    "    conn = sqlite3.connect('parking_system.db')\n",
    "    c = conn.cursor()\n",
    "    \n",
    "    c.execute('''SELECT v.*, u.* \n",
    "                 FROM vehicles v\n",
    "                 JOIN users u ON v.user_id = u.user_id\n",
    "                 WHERE v.plate_number = ?''', (plate_number,))\n",
    "    \n",
    "    result = c.fetchone()\n",
    "    conn.close()\n",
    "    \n",
    "    if result:\n",
    "        return {\n",
    "            'plate': result[0],\n",
    "            'make': result[1],\n",
    "            'model': result[2],\n",
    "            'color': result[3],\n",
    "            'owner': result[5],\n",
    "            'contact': result[6],\n",
    "            'email': result[7],\n",
    "            'address': result[8]\n",
    "        }\n",
    "    return None"
   ]
  },
  {
   "cell_type": "code",
   "execution_count": 13,
   "id": "5acce6f0",
   "metadata": {},
   "outputs": [],
   "source": [
    "def register_user():\n",
    "    print(\"\\n--- Register New User ---\")\n",
    "    \n",
    "    user_id = input(\"Enter user ID: \")\n",
    "    name = input(\"Full Name: \")\n",
    "    contact = input(\"Contact Number: \")\n",
    "    email = input(\"Email Address: \")\n",
    "    address = input(\"Physical Address: \")\n",
    "    \n",
    "    if not all([user_id, name, contact]):\n",
    "        print(\"Error: User ID, Name and Contact are required fields\")\n",
    "        return\n",
    "    \n",
    "    try:\n",
    "        conn = sqlite3.connect('parking_system.db')\n",
    "        c = conn.cursor()\n",
    "        \n",
    "        c.execute(\"SELECT * FROM users WHERE user_id = ?\", (user_id,))\n",
    "        if c.fetchone():\n",
    "            print(\"Error: User ID already exists\")\n",
    "            return\n",
    "        \n",
    "        c.execute('''INSERT INTO users \n",
    "                    (user_id, name, contact, email, address)\n",
    "                    VALUES (?, ?, ?, ?, ?)''',\n",
    "                    (user_id, name, contact, email, address))\n",
    "        \n",
    "        conn.commit()\n",
    "        print(f\"Successfully registered user: {name} (ID: {user_id})\")\n",
    "        \n",
    "        add_vehicle_option = input(\"Add vehicle for this user now? (y/n): \").lower()\n",
    "        if add_vehicle_option == 'y':\n",
    "            add_vehicle(user_id)\n",
    "            \n",
    "    except sqlite3.Error as e:\n",
    "        print(f\"Database error: {e}\")\n",
    "    finally:\n",
    "        conn.close()\n"
   ]
  },
  {
   "cell_type": "code",
   "execution_count": 14,
   "id": "a163161d",
   "metadata": {},
   "outputs": [],
   "source": [
    "def add_vehicle(user_id=None):\n",
    "    print(\"\\n--- Add New Vehicle ---\")\n",
    "    \n",
    "    if not user_id:\n",
    "        user_id = input(\"Enter owner's user ID: \")\n",
    "    \n",
    "    conn = sqlite3.connect('parking_system.db')\n",
    "    c = conn.cursor()\n",
    "    c.execute(\"SELECT name FROM users WHERE user_id = ?\", (user_id,))\n",
    "    user = c.fetchone()\n",
    "    \n",
    "    if not user:\n",
    "        print(\"Error: User not found\")\n",
    "        conn.close()\n",
    "        return\n",
    "    \n",
    "    print(f\"Registering vehicle for: {user[0]}\")\n",
    "    plate_number = input(\"License Plate Number: \").upper().strip()\n",
    "    make = input(\"Vehicle Make (e.g., Toyota): \")\n",
    "    model = input(\"Vehicle Model (e.g., Corolla): \")\n",
    "    color = input(\"Vehicle Color: \")\n",
    "    \n",
    "    if not plate_number:\n",
    "        print(\"Error: License plate is required\")\n",
    "        conn.close()\n",
    "        return\n",
    "    \n",
    "    try:\n",
    "        c.execute(\"SELECT * FROM vehicles WHERE plate_number = ?\", (plate_number,))\n",
    "        if c.fetchone():\n",
    "            print(\"Error: This vehicle is already registered\")\n",
    "            return\n",
    "        c.execute('''INSERT INTO vehicles \n",
    "                    (plate_number, make, model, color, user_id)\n",
    "                    VALUES (?, ?, ?, ?, ?)''',\n",
    "                    (plate_number, make, model, color, user_id))\n",
    "        conn.commit()\n",
    "        print(f\"Successfully registered vehicle: {plate_number}\")\n",
    "            \n",
    "    except sqlite3.Error as e:\n",
    "        print(f\"Database error: {e}\")\n",
    "    finally:\n",
    "        conn.close()\n"
   ]
  },
  {
   "cell_type": "code",
   "execution_count": 27,
   "id": "7b40b9e1",
   "metadata": {},
   "outputs": [],
   "source": [
    "\n",
    "def process_camera_image(image_path=None):\n",
    "    if image_path:\n",
    "        plate_number = detect_plate(image_path)\n",
    "    else:\n",
    "        image_path = input(\"Enter image path: \")\n",
    "        plate_number = detect_plate(image_path)\n",
    "    if plate_number:\n",
    "        print(f\"Detected Plate: {plate_number}\")\n",
    "        vehicle_info = get_vehicle_info(plate_number)\n",
    "        \n",
    "        if vehicle_info:\n",
    "            print(\"\\nVehicle Information:\")\n",
    "            print(f\"Make/Model: {vehicle_info['make']} {vehicle_info['model']}\")\n",
    "            print(f\"Color: {vehicle_info['color']}\")\n",
    "            print(f\"\\nOwner Information:\")\n",
    "            print(f\"Name: {vehicle_info['owner']}\")\n",
    "            print(f\"Contact: {vehicle_info['contact']}\")\n",
    "            print(f\"Email: {vehicle_info['email']}\")\n",
    "            \n",
    "        else:\n",
    "            print(\"Vehicle not registered in system.\")\n",
    "    else:\n",
    "        print(\"No license plate detected.\")"
   ]
  },
  {
   "cell_type": "code",
   "execution_count": 28,
   "id": "19679afd",
   "metadata": {},
   "outputs": [],
   "source": [
    "def admin_menu():\n",
    "    while True:\n",
    "        print(\"\\nSmart Parking Management System\")\n",
    "        print(\"1. Register New User\")\n",
    "        print(\"2. Add Vehicle\")\n",
    "        print(\"3. Process Camera Image\")\n",
    "        print(\"4. Exit\")\n",
    "        \n",
    "        choice = input(\"Enter your choice: \")\n",
    "        \n",
    "        if choice == '1':\n",
    "            register_user()\n",
    "        elif choice == '2':\n",
    "            add_vehicle()\n",
    "        elif choice == '3':\n",
    "            process_camera_image()\n",
    "        elif choice == '4':\n",
    "            break\n",
    "        else:\n",
    "            print(\"Invalid choice. exiting.\")\n",
    "            break\n"
   ]
  },
  {
   "cell_type": "code",
   "execution_count": 29,
   "id": "00f7ac7e",
   "metadata": {},
   "outputs": [
    {
     "name": "stdout",
     "output_type": "stream",
     "text": [
      "\n",
      "Smart Parking Management System\n",
      "1. Register New User\n",
      "2. Add Vehicle\n",
      "3. Process Camera Image\n",
      "4. Exit\n"
     ]
    },
    {
     "name": "stderr",
     "output_type": "stream",
     "text": [
      "Neither CUDA nor MPS are available - defaulting to CPU. Note: This module is much faster with a GPU.\n",
      "d:\\PROGRAMS\\Projects\\ANPR vehicle info\\.venv\\Lib\\site-packages\\torch\\utils\\data\\dataloader.py:665: UserWarning: 'pin_memory' argument is set as true but no accelerator is found, then device pinned memory won't be used.\n",
      "  warnings.warn(warn_msg)\n"
     ]
    },
    {
     "name": "stdout",
     "output_type": "stream",
     "text": [
      "Detected Plate: KA64N0099\n",
      "\n",
      "Vehicle Information:\n",
      "Make/Model: bmw na\n",
      "Color: white\n",
      "\n",
      "Owner Information:\n",
      "Name: 2\n",
      "Contact: sr p\n",
      "Email: 9358870383\n",
      "\n",
      "Smart Parking Management System\n",
      "1. Register New User\n",
      "2. Add Vehicle\n",
      "3. Process Camera Image\n",
      "4. Exit\n"
     ]
    }
   ],
   "source": [
    "admin_menu()"
   ]
  },
  {
   "cell_type": "code",
   "execution_count": 20,
   "id": "e3638ccf",
   "metadata": {},
   "outputs": [
    {
     "name": "stderr",
     "output_type": "stream",
     "text": [
      "Neither CUDA nor MPS are available - defaulting to CPU. Note: This module is much faster with a GPU.\n"
     ]
    },
    {
     "name": "stdout",
     "output_type": "stream",
     "text": [
      "Detected Plate: MH20EJ0365\n",
      "\n",
      "Vehicle Information:\n",
      "Make/Model: Toyota na\n",
      "Color: black\n",
      "\n",
      "Owner Information:\n",
      "Name: 1\n",
      "Contact: sr\n",
      "Email: 9358870383\n"
     ]
    }
   ],
   "source": [
    "process_camera_image(\"Car.jpeg\")"
   ]
  },
  {
   "cell_type": "code",
   "execution_count": null,
   "id": "51e5f793",
   "metadata": {},
   "outputs": [],
   "source": []
  }
 ],
 "metadata": {
  "kernelspec": {
   "display_name": ".venv",
   "language": "python",
   "name": "python3"
  },
  "language_info": {
   "codemirror_mode": {
    "name": "ipython",
    "version": 3
   },
   "file_extension": ".py",
   "mimetype": "text/x-python",
   "name": "python",
   "nbconvert_exporter": "python",
   "pygments_lexer": "ipython3",
   "version": "3.12.9"
  }
 },
 "nbformat": 4,
 "nbformat_minor": 5
}
