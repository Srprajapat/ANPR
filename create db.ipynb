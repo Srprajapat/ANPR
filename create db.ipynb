{
 "cells": [
  {
   "cell_type": "code",
   "execution_count": 1,
   "id": "e5082ee1",
   "metadata": {},
   "outputs": [],
   "source": [
    "import sqlite3"
   ]
  },
  {
   "cell_type": "code",
   "execution_count": 2,
   "id": "8f13d28d",
   "metadata": {},
   "outputs": [],
   "source": [
    "def initialize_database():\n",
    "    conn = sqlite3.connect('parking_system.db')\n",
    "    c = conn.cursor()\n",
    "    \n",
    "    c.execute('''CREATE TABLE IF NOT EXISTS users\n",
    "                 (user_id TEXT PRIMARY KEY,\n",
    "                  name TEXT,\n",
    "                  contact TEXT,\n",
    "                  email TEXT,\n",
    "                  address TEXT)''')\n",
    "                  \n",
    "    c.execute('''CREATE TABLE IF NOT EXISTS vehicles\n",
    "                 (plate_number TEXT PRIMARY KEY,\n",
    "                  make TEXT,\n",
    "                  model TEXT,\n",
    "                  color TEXT,\n",
    "                  user_id TEXT,\n",
    "                  FOREIGN KEY(user_id) REFERENCES users(user_id))''')\n",
    "\n",
    "    conn.commit()\n",
    "    conn.close()"
   ]
  },
  {
   "cell_type": "code",
   "execution_count": 3,
   "id": "56936965",
   "metadata": {},
   "outputs": [],
   "source": [
    "initialize_database()"
   ]
  }
 ],
 "metadata": {
  "kernelspec": {
   "display_name": ".venv",
   "language": "python",
   "name": "python3"
  },
  "language_info": {
   "codemirror_mode": {
    "name": "ipython",
    "version": 3
   },
   "file_extension": ".py",
   "mimetype": "text/x-python",
   "name": "python",
   "nbconvert_exporter": "python",
   "pygments_lexer": "ipython3",
   "version": "3.12.9"
  }
 },
 "nbformat": 4,
 "nbformat_minor": 5
}
